{
 "cells": [
  {
   "cell_type": "code",
   "execution_count": 2,
   "id": "5046179e-3a9e-4a0a-b86c-805dbdc8b778",
   "metadata": {},
   "outputs": [
    {
     "name": "stdout",
     "output_type": "stream",
     "text": [
      "No image files found in the directory.\n"
     ]
    }
   ],
   "source": [
    "import cv2\n",
    "import os\n",
    "\n",
    "def preprocess_image(image):\n",
    "    \"\"\"\n",
    "    Convert image to grayscale and enhance contrast.\n",
    "    \"\"\"\n",
    "    gray = cv2.cvtColor(image, cv2.COLOR_BGR2GRAY)\n",
    "    return cv2.equalizeHist(gray)\n",
    "\n",
    "def detect_fracture(image):\n",
    "    \"\"\"\n",
    "    Detect edges in the image to identify potential fractures.\n",
    "    \"\"\"\n",
    "    edges = cv2.Canny(image, 100, 200)\n",
    "    return edges\n",
    "\n",
    "def process_images_in_directory(directory):\n",
    "    \"\"\"\n",
    "    Process all images in the given directory for fracture detection.\n",
    "    \"\"\"\n",
    "    # Check if the directory exists\n",
    "    if not os.path.exists(directory):\n",
    "        print(\"Directory does not exist.\")\n",
    "        return\n",
    "\n",
    "    # Get all image files in the directory\n",
    "    image_files = [f for f in os.listdir(directory) if f.lower().endswith(('.jpg', '.jpeg', '.png'))]\n",
    "\n",
    "    if not image_files:\n",
    "        print(\"No image files found in the directory.\")\n",
    "        return\n",
    "\n",
    "    for file_name in image_files:\n",
    "        file_path = os.path.join(directory, file_name)\n",
    "        print(f\"Processing: {file_path}\")\n",
    "\n",
    "        # Load the image\n",
    "        image = cv2.imread(file_path)\n",
    "        if image is None:\n",
    "            print(f\"Error loading image: {file_name}\")\n",
    "            continue\n",
    "\n",
    "        # Preprocess and detect edges\n",
    "        preprocessed_image = preprocess_image(image)\n",
    "        edges = detect_fracture(preprocessed_image)\n",
    "\n",
    "        # Display the results\n",
    "        cv2.imshow(\"Original X-ray\", image)\n",
    "        cv2.imshow(\"Detected Edges (Fracture Detection)\", edges)\n",
    "        cv2.waitKey(0)\n",
    "\n",
    "    cv2.destroyAllWindows()\n",
    "\n",
    "def main():\n",
    "    # ✅ Using your specified directory\n",
    "    directory = r\"C:\\Users\\Manan Computer\\Desktop\\bone crack detection\"\n",
    "    process_images_in_directory(directory)\n",
    "\n",
    "if __name__ == \"__main__\":\n",
    "    main()\n"
   ]
  },
  {
   "cell_type": "code",
   "execution_count": null,
   "id": "188ab6fe-8281-4ece-90f4-31f550634fe0",
   "metadata": {},
   "outputs": [],
   "source": []
  }
 ],
 "metadata": {
  "kernelspec": {
   "display_name": "Python 3 (ipykernel)",
   "language": "python",
   "name": "python3"
  },
  "language_info": {
   "codemirror_mode": {
    "name": "ipython",
    "version": 3
   },
   "file_extension": ".py",
   "mimetype": "text/x-python",
   "name": "python",
   "nbconvert_exporter": "python",
   "pygments_lexer": "ipython3",
   "version": "3.12.7"
  }
 },
 "nbformat": 4,
 "nbformat_minor": 5
}
